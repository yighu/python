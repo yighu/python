{
 "cells": [
  {
   "cell_type": "code",
   "execution_count": 1,
   "metadata": {},
   "outputs": [
    {
     "name": "stdout",
     "output_type": "stream",
     "text": [
      "Collecting jupylet\n",
      "  Downloading jupylet-0.7.0.tar.gz (35 kB)\n",
      "Collecting wget\n",
      "  Downloading wget-3.2.zip (10 kB)\n",
      "Requirement already satisfied: numpy in /Users/yiguanghu/.local/lib/python3.6/site-packages (from jupylet) (1.18.1)\n",
      "Collecting PyGLM\n",
      "  Downloading PyGLM-1.99.3-cp36-cp36m-macosx_10_9_x86_64.whl (1.3 MB)\n",
      "\u001b[K     |████████████████████████████████| 1.3 MB 1.3 MB/s eta 0:00:01\n",
      "\u001b[?25hRequirement already satisfied: scipy in /Users/yiguanghu/anaconda3/lib/python3.6/site-packages (from jupylet) (1.4.1)\n",
      "Requirement already satisfied: pillow in /Users/yiguanghu/anaconda3/lib/python3.6/site-packages (from jupylet) (7.0.0)\n",
      "Collecting pyglet==1.5.5\n",
      "  Downloading pyglet-1.5.5-py3-none-any.whl (1.0 MB)\n",
      "\u001b[K     |████████████████████████████████| 1.0 MB 1.8 MB/s eta 0:00:01\n",
      "\u001b[?25hCollecting gltflib\n",
      "  Downloading gltflib-1.0.5-py3-none-any.whl (60 kB)\n",
      "\u001b[K     |████████████████████████████████| 60 kB 2.3 MB/s eta 0:00:01\n",
      "\u001b[?25hRequirement already satisfied: jupyter in /Users/yiguanghu/anaconda3/lib/python3.6/site-packages (from jupylet) (1.0.0)\n",
      "Collecting webcolors\n",
      "  Downloading webcolors-1.11.1-py3-none-any.whl (9.9 kB)\n",
      "Collecting ipyevents\n",
      "  Downloading ipyevents-0.8.0-py2.py3-none-any.whl (123 kB)\n",
      "\u001b[K     |████████████████████████████████| 123 kB 2.0 MB/s eta 0:00:01\n",
      "\u001b[?25hRequirement already satisfied: ipywidgets in /Users/yiguanghu/anaconda3/lib/python3.6/site-packages (from jupylet) (7.5.1)\n",
      "Requirement already satisfied: matplotlib in /Users/yiguanghu/anaconda3/lib/python3.6/site-packages (from jupylet) (3.2.1)\n",
      "Collecting xvfbwrapper\n",
      "  Downloading xvfbwrapper-0.2.9.tar.gz (5.6 kB)\n",
      "Collecting dataclasses-json>=0.2.2\n",
      "  Downloading dataclasses_json-0.5.2-py3-none-any.whl (23 kB)\n",
      "Collecting dataclasses>=0.6\n",
      "  Downloading dataclasses-0.7-py3-none-any.whl (18 kB)\n",
      "Requirement already satisfied: ipykernel in /Users/yiguanghu/anaconda3/lib/python3.6/site-packages (from jupyter->jupylet) (5.1.4)\n",
      "Requirement already satisfied: notebook in /Users/yiguanghu/anaconda3/lib/python3.6/site-packages (from jupyter->jupylet) (6.0.3)\n",
      "Requirement already satisfied: nbconvert in /Users/yiguanghu/anaconda3/lib/python3.6/site-packages (from jupyter->jupylet) (5.6.1)\n",
      "Requirement already satisfied: qtconsole in /Users/yiguanghu/anaconda3/lib/python3.6/site-packages (from jupyter->jupylet) (4.7.5)\n",
      "Requirement already satisfied: jupyter-console in /Users/yiguanghu/anaconda3/lib/python3.6/site-packages (from jupyter->jupylet) (6.1.0)\n",
      "Requirement already satisfied: widgetsnbextension~=3.5.0 in /Users/yiguanghu/anaconda3/lib/python3.6/site-packages (from ipywidgets->jupylet) (3.5.1)\n",
      "Requirement already satisfied: traitlets>=4.3.1 in /Users/yiguanghu/anaconda3/lib/python3.6/site-packages (from ipywidgets->jupylet) (4.3.3)\n",
      "Requirement already satisfied: ipython>=4.0.0; python_version >= \"3.3\" in /Users/yiguanghu/anaconda3/lib/python3.6/site-packages (from ipywidgets->jupylet) (7.13.0)\n",
      "Requirement already satisfied: nbformat>=4.2.0 in /Users/yiguanghu/anaconda3/lib/python3.6/site-packages (from ipywidgets->jupylet) (5.0.4)\n",
      "Requirement already satisfied: pyparsing!=2.0.4,!=2.1.2,!=2.1.6,>=2.0.1 in /Users/yiguanghu/anaconda3/lib/python3.6/site-packages (from matplotlib->jupylet) (2.4.7)\n",
      "Requirement already satisfied: kiwisolver>=1.0.1 in /Users/yiguanghu/anaconda3/lib/python3.6/site-packages (from matplotlib->jupylet) (1.2.0)\n",
      "Requirement already satisfied: cycler>=0.10 in /Users/yiguanghu/anaconda3/lib/python3.6/site-packages (from matplotlib->jupylet) (0.10.0)\n",
      "Requirement already satisfied: python-dateutil>=2.1 in /Users/yiguanghu/anaconda3/lib/python3.6/site-packages (from matplotlib->jupylet) (2.8.1)\n",
      "Collecting stringcase<2.0.0,==1.2.0\n",
      "  Downloading stringcase-1.2.0.tar.gz (3.0 kB)\n",
      "Collecting typing-inspect>=0.4.0\n",
      "  Downloading typing_inspect-0.6.0-py3-none-any.whl (8.1 kB)\n",
      "Collecting marshmallow<4.0.0,>=3.3.0\n",
      "  Downloading marshmallow-3.7.1-py2.py3-none-any.whl (45 kB)\n",
      "\u001b[K     |████████████████████████████████| 45 kB 3.6 MB/s eta 0:00:01\n",
      "\u001b[?25hCollecting marshmallow-enum<2.0.0,>=1.5.1\n",
      "  Downloading marshmallow_enum-1.5.1-py2.py3-none-any.whl (4.2 kB)\n",
      "Requirement already satisfied: tornado>=4.2 in /Users/yiguanghu/anaconda3/lib/python3.6/site-packages (from ipykernel->jupyter->jupylet) (6.0.4)\n",
      "Requirement already satisfied: jupyter-client in /Users/yiguanghu/anaconda3/lib/python3.6/site-packages (from ipykernel->jupyter->jupylet) (6.1.2)\n",
      "Requirement already satisfied: appnope; platform_system == \"Darwin\" in /Users/yiguanghu/anaconda3/lib/python3.6/site-packages (from ipykernel->jupyter->jupylet) (0.1.0)\n",
      "Requirement already satisfied: terminado>=0.8.1 in /Users/yiguanghu/anaconda3/lib/python3.6/site-packages (from notebook->jupyter->jupylet) (0.8.3)\n",
      "Requirement already satisfied: Send2Trash in /Users/yiguanghu/anaconda3/lib/python3.6/site-packages (from notebook->jupyter->jupylet) (1.5.0)\n",
      "Requirement already satisfied: jupyter-core>=4.6.1 in /Users/yiguanghu/anaconda3/lib/python3.6/site-packages (from notebook->jupyter->jupylet) (4.6.3)\n",
      "Requirement already satisfied: jinja2 in /Users/yiguanghu/anaconda3/lib/python3.6/site-packages (from notebook->jupyter->jupylet) (2.11.1)\n",
      "Requirement already satisfied: pyzmq>=17 in /Users/yiguanghu/anaconda3/lib/python3.6/site-packages (from notebook->jupyter->jupylet) (18.1.1)\n",
      "Requirement already satisfied: prometheus-client in /Users/yiguanghu/anaconda3/lib/python3.6/site-packages (from notebook->jupyter->jupylet) (0.7.1)\n",
      "Requirement already satisfied: ipython-genutils in /Users/yiguanghu/anaconda3/lib/python3.6/site-packages (from notebook->jupyter->jupylet) (0.2.0)\n",
      "Requirement already satisfied: bleach in /Users/yiguanghu/anaconda3/lib/python3.6/site-packages (from nbconvert->jupyter->jupylet) (3.1.4)\n",
      "Requirement already satisfied: mistune<2,>=0.8.1 in /Users/yiguanghu/anaconda3/lib/python3.6/site-packages (from nbconvert->jupyter->jupylet) (0.8.4)\n",
      "Requirement already satisfied: defusedxml in /Users/yiguanghu/anaconda3/lib/python3.6/site-packages (from nbconvert->jupyter->jupylet) (0.6.0)\n",
      "Requirement already satisfied: pandocfilters>=1.4.1 in /Users/yiguanghu/anaconda3/lib/python3.6/site-packages (from nbconvert->jupyter->jupylet) (1.4.2)\n",
      "Requirement already satisfied: pygments in /Users/yiguanghu/anaconda3/lib/python3.6/site-packages (from nbconvert->jupyter->jupylet) (2.6.1)\n",
      "Requirement already satisfied: testpath in /Users/yiguanghu/anaconda3/lib/python3.6/site-packages (from nbconvert->jupyter->jupylet) (0.4.4)\n",
      "Requirement already satisfied: entrypoints>=0.2.2 in /Users/yiguanghu/anaconda3/lib/python3.6/site-packages (from nbconvert->jupyter->jupylet) (0.3)\n",
      "Requirement already satisfied: qtpy in /Users/yiguanghu/anaconda3/lib/python3.6/site-packages (from qtconsole->jupyter->jupylet) (1.9.0)\n",
      "Requirement already satisfied: prompt-toolkit!=3.0.0,!=3.0.1,<3.1.0,>=2.0.0 in /Users/yiguanghu/anaconda3/lib/python3.6/site-packages (from jupyter-console->jupyter->jupylet) (3.0.4)\n",
      "Requirement already satisfied: decorator in /Users/yiguanghu/anaconda3/lib/python3.6/site-packages (from traitlets>=4.3.1->ipywidgets->jupylet) (4.4.2)\n",
      "Requirement already satisfied: six in /Users/yiguanghu/anaconda3/lib/python3.6/site-packages (from traitlets>=4.3.1->ipywidgets->jupylet) (1.14.0)\n",
      "Requirement already satisfied: pexpect; sys_platform != \"win32\" in /Users/yiguanghu/anaconda3/lib/python3.6/site-packages (from ipython>=4.0.0; python_version >= \"3.3\"->ipywidgets->jupylet) (4.8.0)\n",
      "Requirement already satisfied: backcall in /Users/yiguanghu/anaconda3/lib/python3.6/site-packages (from ipython>=4.0.0; python_version >= \"3.3\"->ipywidgets->jupylet) (0.1.0)\n",
      "Requirement already satisfied: jedi>=0.10 in /Users/yiguanghu/anaconda3/lib/python3.6/site-packages (from ipython>=4.0.0; python_version >= \"3.3\"->ipywidgets->jupylet) (0.16.0)\n",
      "Requirement already satisfied: setuptools>=18.5 in /Users/yiguanghu/anaconda3/lib/python3.6/site-packages (from ipython>=4.0.0; python_version >= \"3.3\"->ipywidgets->jupylet) (46.1.3.post20200330)\n",
      "Requirement already satisfied: pickleshare in /Users/yiguanghu/anaconda3/lib/python3.6/site-packages (from ipython>=4.0.0; python_version >= \"3.3\"->ipywidgets->jupylet) (0.7.5)\n",
      "Requirement already satisfied: jsonschema!=2.5.0,>=2.4 in /Users/yiguanghu/anaconda3/lib/python3.6/site-packages (from nbformat>=4.2.0->ipywidgets->jupylet) (3.2.0)\n"
     ]
    },
    {
     "name": "stdout",
     "output_type": "stream",
     "text": [
      "Collecting mypy-extensions>=0.3.0\n",
      "  Downloading mypy_extensions-0.4.3-py2.py3-none-any.whl (4.5 kB)\n",
      "Collecting typing-extensions>=3.7.4\n",
      "  Downloading typing_extensions-3.7.4.2-py3-none-any.whl (22 kB)\n",
      "Requirement already satisfied: MarkupSafe>=0.23 in /Users/yiguanghu/anaconda3/lib/python3.6/site-packages (from jinja2->notebook->jupyter->jupylet) (1.1.1)\n",
      "Requirement already satisfied: webencodings in /Users/yiguanghu/anaconda3/lib/python3.6/site-packages (from bleach->nbconvert->jupyter->jupylet) (0.5.1)\n",
      "Requirement already satisfied: wcwidth in /Users/yiguanghu/anaconda3/lib/python3.6/site-packages (from prompt-toolkit!=3.0.0,!=3.0.1,<3.1.0,>=2.0.0->jupyter-console->jupyter->jupylet) (0.1.9)\n",
      "Requirement already satisfied: ptyprocess>=0.5 in /Users/yiguanghu/anaconda3/lib/python3.6/site-packages (from pexpect; sys_platform != \"win32\"->ipython>=4.0.0; python_version >= \"3.3\"->ipywidgets->jupylet) (0.6.0)\n",
      "Requirement already satisfied: parso>=0.5.2 in /Users/yiguanghu/anaconda3/lib/python3.6/site-packages (from jedi>=0.10->ipython>=4.0.0; python_version >= \"3.3\"->ipywidgets->jupylet) (0.6.2)\n",
      "Requirement already satisfied: importlib-metadata; python_version < \"3.8\" in /Users/yiguanghu/anaconda3/lib/python3.6/site-packages (from jsonschema!=2.5.0,>=2.4->nbformat>=4.2.0->ipywidgets->jupylet) (1.5.0)\n",
      "Requirement already satisfied: pyrsistent>=0.14.0 in /Users/yiguanghu/anaconda3/lib/python3.6/site-packages (from jsonschema!=2.5.0,>=2.4->nbformat>=4.2.0->ipywidgets->jupylet) (0.16.0)\n",
      "Requirement already satisfied: attrs>=17.4.0 in /Users/yiguanghu/anaconda3/lib/python3.6/site-packages (from jsonschema!=2.5.0,>=2.4->nbformat>=4.2.0->ipywidgets->jupylet) (19.3.0)\n",
      "Requirement already satisfied: zipp>=0.5 in /Users/yiguanghu/anaconda3/lib/python3.6/site-packages (from importlib-metadata; python_version < \"3.8\"->jsonschema!=2.5.0,>=2.4->nbformat>=4.2.0->ipywidgets->jupylet) (2.2.0)\n",
      "Building wheels for collected packages: jupylet, wget, xvfbwrapper, stringcase\n",
      "  Building wheel for jupylet (setup.py) ... \u001b[?25ldone\n",
      "\u001b[?25h  Created wheel for jupylet: filename=jupylet-0.7.0-py3-none-any.whl size=43062 sha256=f68d95fe94f5407e3bcfa364a75905d59f63d823931f913a84d4574fba641411\n",
      "  Stored in directory: /Users/yiguanghu/Library/Caches/pip/wheels/74/ea/9f/9f1ad3841fb6b59451a425c22766321d619506771c904e5ded\n",
      "  Building wheel for wget (setup.py) ... \u001b[?25ldone\n",
      "\u001b[?25h  Created wheel for wget: filename=wget-3.2-py3-none-any.whl size=9681 sha256=d6c679695cfdc6ecf55c0bd8400d51e0778f4eeacb0b233afb2f10e9b0df6d43\n",
      "  Stored in directory: /Users/yiguanghu/Library/Caches/pip/wheels/90/1d/93/c863ee832230df5cfc25ca497b3e88e0ee3ea9e44adc46ac62\n",
      "  Building wheel for xvfbwrapper (setup.py) ... \u001b[?25ldone\n",
      "\u001b[?25h  Created wheel for xvfbwrapper: filename=xvfbwrapper-0.2.9-py3-none-any.whl size=5008 sha256=c07c0227aa44c8654a267791f16cd714730ad0c27610911d6f6cf8999d68608a\n",
      "  Stored in directory: /Users/yiguanghu/Library/Caches/pip/wheels/f1/d8/25/65f558bc4feb8fe86d82befbb8133633483b3be7c16377a5ce\n",
      "  Building wheel for stringcase (setup.py) ... \u001b[?25ldone\n",
      "\u001b[?25h  Created wheel for stringcase: filename=stringcase-1.2.0-py3-none-any.whl size=3576 sha256=a607ffce768ddb56c18854fed2d434f9a9a1193a5d3ecb684f0c8f5044ddde4b\n",
      "  Stored in directory: /Users/yiguanghu/Library/Caches/pip/wheels/39/ed/1a/d1fbf258dd3b80cf68bdcc602c60f46039c4aacd9ae672b827\n",
      "Successfully built jupylet wget xvfbwrapper stringcase\n",
      "Installing collected packages: wget, PyGLM, pyglet, stringcase, mypy-extensions, typing-extensions, typing-inspect, marshmallow, dataclasses, marshmallow-enum, dataclasses-json, gltflib, webcolors, ipyevents, xvfbwrapper, jupylet\n",
      "  Attempting uninstall: pyglet\n",
      "    Found existing installation: pyglet 1.3.2\n",
      "    Uninstalling pyglet-1.3.2:\n",
      "      Successfully uninstalled pyglet-1.3.2\n",
      "Successfully installed PyGLM-1.99.3 dataclasses-0.7 dataclasses-json-0.5.2 gltflib-1.0.5 ipyevents-0.8.0 jupylet-0.7.0 marshmallow-3.7.1 marshmallow-enum-1.5.1 mypy-extensions-0.4.3 pyglet-1.5.5 stringcase-1.2.0 typing-extensions-3.7.4.2 typing-inspect-0.6.0 webcolors-1.11.1 wget-3.2 xvfbwrapper-0.2.9\n",
      "\u001b[33mWARNING: You are using pip version 20.2.1; however, version 20.2.2 is available.\n",
      "You should consider upgrading via the '/Users/yiguanghu/anaconda3/bin/python -m pip install --upgrade pip' command.\u001b[0m\n"
     ]
    }
   ],
   "source": [
    "!pip install jupylet"
   ]
  },
  {
   "cell_type": "code",
   "execution_count": 2,
   "metadata": {},
   "outputs": [
    {
     "name": "stdout",
     "output_type": "stream",
     "text": [
      "Collecting pip\n",
      "  Downloading pip-20.2.2-py2.py3-none-any.whl (1.5 MB)\n",
      "\u001b[K     |████████████████████████████████| 1.5 MB 1.2 MB/s eta 0:00:01\n",
      "\u001b[?25hInstalling collected packages: pip\n",
      "  Attempting uninstall: pip\n",
      "    Found existing installation: pip 20.2.1\n",
      "    Uninstalling pip-20.2.1:\n",
      "      Successfully uninstalled pip-20.2.1\n",
      "Successfully installed pip-20.2.2\n"
     ]
    }
   ],
   "source": [
    "!/Users/yiguanghu/anaconda3/bin/python -m pip install --upgrade pip"
   ]
  },
  {
   "cell_type": "code",
   "execution_count": null,
   "metadata": {},
   "outputs": [],
   "source": []
  }
 ],
 "metadata": {
  "kernelspec": {
   "display_name": "Python 3",
   "language": "python",
   "name": "python3"
  },
  "language_info": {
   "codemirror_mode": {
    "name": "ipython",
    "version": 3
   },
   "file_extension": ".py",
   "mimetype": "text/x-python",
   "name": "python",
   "nbconvert_exporter": "python",
   "pygments_lexer": "ipython3",
   "version": "3.6.10"
  }
 },
 "nbformat": 4,
 "nbformat_minor": 4
}
